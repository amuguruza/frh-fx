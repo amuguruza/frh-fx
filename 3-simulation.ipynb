{
 "cells": [
  {
   "cell_type": "markdown",
   "metadata": {},
   "source": [
    "# FX cross verification by MC"
   ]
  },
  {
   "cell_type": "code",
   "execution_count": 1,
   "metadata": {
    "collapsed": true
   },
   "outputs": [],
   "source": [
    "import numpy as np\n",
    "from frh_fx import mpl, nig, frh, uts, sim, blk\n",
    "from matplotlib import pyplot as plt\n",
    "% matplotlib inline"
   ]
  },
  {
   "cell_type": "code",
   "execution_count": 2,
   "metadata": {
    "collapsed": true
   },
   "outputs": [],
   "source": [
    "mpl.config(scale=1.5,print_keys=False)"
   ]
  },
  {
   "cell_type": "code",
   "execution_count": 15,
   "metadata": {
    "collapsed": true
   },
   "outputs": [],
   "source": [
    "T = np.array([1])\n",
    "k = uts.get_logstrikes(T)\n",
    "σ1,ρ1 = 0.11, 0.25\n",
    "σ2,ρ2 = 0.09,-0.50\n",
    "γ = 1\n",
    "ρ = 0.5"
   ]
  },
  {
   "cell_type": "code",
   "execution_count": 16,
   "metadata": {
    "collapsed": true
   },
   "outputs": [],
   "source": [
    "α1,β1,δ1,μ1 = frh.nig_params(σ1,ρ1,γ)\n",
    "α2,β2,δ2,μ2 = frh.nig_params(σ2,ρ2,γ)"
   ]
  },
  {
   "cell_type": "code",
   "execution_count": 17,
   "metadata": {
    "collapsed": true
   },
   "outputs": [],
   "source": [
    "θ1 = α1,β1,δ1\n",
    "θ2 = α2,β2,δ2\n",
    "α3,β3,δ3,μ3 = nig.cross_params(θ1,θ2,ρ)\n",
    "θ3 = α3,β3,δ3"
   ]
  },
  {
   "cell_type": "code",
   "execution_count": 19,
   "metadata": {
    "collapsed": true
   },
   "outputs": [],
   "source": [
    "m,n = 2**17,2**0\n",
    "t = np.linspace(0,T,n+1)\n",
    "Δ = T/n"
   ]
  },
  {
   "cell_type": "code",
   "execution_count": 20,
   "metadata": {
    "collapsed": true
   },
   "outputs": [],
   "source": [
    "np.random.seed(0)\n",
    "ɛ1,ɛ2 = sim.correlated_noise(ρ,size=(m,n))"
   ]
  },
  {
   "cell_type": "code",
   "execution_count": 21,
   "metadata": {
    "collapsed": true
   },
   "outputs": [],
   "source": [
    "v = sim.subordinator(T,γ,size=(m,n))\n",
    "v1 = sim.scaled_sub(v,σ1,ρ1)\n",
    "v2 = sim.scaled_sub(v,σ2,ρ2)"
   ]
  },
  {
   "cell_type": "code",
   "execution_count": 22,
   "metadata": {
    "collapsed": true
   },
   "outputs": [],
   "source": [
    "X1 = sim.nig_process(v1,ɛ1,Δ,θ1)\n",
    "X2 = sim.nig_process(v2,ɛ2,Δ,θ2)\n",
    "X3 = X1/X2"
   ]
  },
  {
   "cell_type": "code",
   "execution_count": 23,
   "metadata": {
    "collapsed": true
   },
   "outputs": [],
   "source": [
    "P1 = sim.prices(X1,k,T)\n",
    "P2 = sim.prices(X2,k,T)\n",
    "P3 = sim.prices(X3,k,T,N=X2)"
   ]
  },
  {
   "cell_type": "code",
   "execution_count": 24,
   "metadata": {
    "collapsed": true
   },
   "outputs": [],
   "source": [
    "BS1 = blk.surface(k,T,P1)\n",
    "BS2 = blk.surface(k,T,P2)\n",
    "BS3 = blk.surface(k,T,P3)"
   ]
  },
  {
   "cell_type": "code",
   "execution_count": 28,
   "metadata": {},
   "outputs": [
    {
     "name": "stdout",
     "output_type": "stream",
     "text": [
      "Saved at: /Users/ryanmccrickerd/gdrive/rypy/frh-fx/plots\n"
     ]
    },
    {
     "data": {
      "image/png": "[encoded data removed]",
      "text/plain": [
       "<matplotlib.figure.Figure at 0x11daee198>"
      ]
     },
     "metadata": {},
     "output_type": "display_data"
    }
   ],
   "source": [
    "plot,axes = plt.subplots()\n",
    "axes.plot(k[0,:],100*BS1[0,:],'r')\n",
    "axes.plot(k[0,:],100*BS2[0,:],'b')\n",
    "axes.plot(k[0,:],100*BS3[0,:],'g')\n",
    "axes.legend([r'$X^{(1)}$',\n",
    "             r'$X^{(2)}$',\n",
    "             r'$X^{(3)}$'])\n",
    "axes.set_xlabel(r'$k$')\n",
    "axes.set_ylabel(r'$\\bar{\\sigma}(k,t)$');\n",
    "uts.save_plot()"
   ]
  },
  {
   "cell_type": "code",
   "execution_count": 26,
   "metadata": {},
   "outputs": [
    {
     "name": "stdout",
     "output_type": "stream",
     "text": [
      "Saved at: /Users/ryanmccrickerd/gdrive/rypy/frh-fx/data/20180522-182555\n"
     ]
    }
   ],
   "source": [
    "uts.save_data(k,T,BS3)"
   ]
  }
 ],
 "metadata": {
  "anaconda-cloud": {},
  "kernelspec": {
   "display_name": "Python [default]",
   "language": "python",
   "name": "python3"
  },
  "language_info": {
   "codemirror_mode": {
    "name": "ipython",
    "version": 3
   },
   "file_extension": ".py",
   "mimetype": "text/x-python",
   "name": "python",
   "nbconvert_exporter": "python",
   "pygments_lexer": "ipython3",
   "version": "3.5.2"
  }
 },
 "nbformat": 4,
 "nbformat_minor": 2
}
